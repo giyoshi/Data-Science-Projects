{
 "cells": [
  {
   "cell_type": "markdown",
   "metadata": {},
   "source": [
    "## Import necessary packages ##\n",
    "## 載入必要的套件 ##"
   ]
  },
  {
   "cell_type": "code",
   "execution_count": 1,
   "metadata": {},
   "outputs": [],
   "source": [
    "import os\n",
    "import cv2\n",
    "import pandas as pd\n",
    "import numpy as np\n",
    "from glob import glob\n",
    "import tensorflow as tf\n",
    "#from sklearn.utils import shuffle\n",
    "from sklearn.model_selection import train_test_split\n",
    "from time import time\n",
    "import matplotlib.pyplot as plt\n",
    "from matplotlib.pylab import rcParams\n",
    "%matplotlib inline\n",
    "from tensorflow.keras.preprocessing.image import ImageDataGenerator, load_img, img_to_array\n",
    "\n",
    "data_dir_path = './who-is-she/'\n",
    "tf.keras.backend.clear_session()"
   ]
  },
  {
   "cell_type": "markdown",
   "metadata": {},
   "source": [
    "## Retrieve target labels from mappings.txt file ##\n",
    "## 把taget labels從Mappings裡面整理出來 ##"
   ]
  },
  {
   "cell_type": "code",
   "execution_count": 2,
   "metadata": {},
   "outputs": [
    {
     "data": {
      "text/plain": [
       "{'rika': '0', 'risa': '1', 'yui': '2', 'akane': '3', 'neru': '4'}"
      ]
     },
     "execution_count": 2,
     "metadata": {},
     "output_type": "execute_result"
    }
   ],
   "source": [
    "target_label_file_name = 'mapping.txt'\n",
    "target_label_file_path = ''.join((data_dir_path,target_label_file_name))\n",
    "with open(target_label_file_path) as f:\n",
    "    all_lines = [line.split(', ') for line in f.read().splitlines()]\n",
    "target_labels = dict()\n",
    "for line in all_lines:\n",
    "    target_class, target_label = line\n",
    "    target_labels[target_class] = target_label\n",
    "target_labels"
   ]
  },
  {
   "cell_type": "markdown",
   "metadata": {},
   "source": [
    "## Set directory for training data ##\n",
    "## 指定存放 train 資料集的資料夾 ##"
   ]
  },
  {
   "cell_type": "code",
   "execution_count": 3,
   "metadata": {},
   "outputs": [],
   "source": [
    "## Set directory for training data ##\n",
    "## 指定存放 train 資料集的資料夾 ### 指定存放 train 資料集的資料夾\n",
    "train_dir = ''.join((data_dir_path, 'training_set'))\n",
    "img_path_list = []\n",
    "img_class_list = []\n",
    "for key in target_labels.keys():\n",
    "    for file_path in glob('{}/{}/*.png'.format(train_dir, key)):\n",
    "        img_class_list.append(target_labels[key])\n",
    "        img_path_list.append(file_path)\n",
    "\n",
    "data_list = pd.DataFrame({'class': img_class_list, 'path': img_path_list})"
   ]
  },
  {
   "cell_type": "code",
   "execution_count": 4,
   "metadata": {},
   "outputs": [
    {
     "data": {
      "text/html": [
       "<div>\n",
       "<style scoped>\n",
       "    .dataframe tbody tr th:only-of-type {\n",
       "        vertical-align: middle;\n",
       "    }\n",
       "\n",
       "    .dataframe tbody tr th {\n",
       "        vertical-align: top;\n",
       "    }\n",
       "\n",
       "    .dataframe thead th {\n",
       "        text-align: right;\n",
       "    }\n",
       "</style>\n",
       "<table border=\"1\" class=\"dataframe\">\n",
       "  <thead>\n",
       "    <tr style=\"text-align: right;\">\n",
       "      <th></th>\n",
       "      <th>class</th>\n",
       "      <th>path</th>\n",
       "    </tr>\n",
       "  </thead>\n",
       "  <tbody>\n",
       "    <tr>\n",
       "      <th>0</th>\n",
       "      <td>0</td>\n",
       "      <td>./who-is-she/training_set/rika\\000.png</td>\n",
       "    </tr>\n",
       "    <tr>\n",
       "      <th>1</th>\n",
       "      <td>0</td>\n",
       "      <td>./who-is-she/training_set/rika\\001.png</td>\n",
       "    </tr>\n",
       "    <tr>\n",
       "      <th>2</th>\n",
       "      <td>0</td>\n",
       "      <td>./who-is-she/training_set/rika\\002.png</td>\n",
       "    </tr>\n",
       "    <tr>\n",
       "      <th>3</th>\n",
       "      <td>0</td>\n",
       "      <td>./who-is-she/training_set/rika\\003.png</td>\n",
       "    </tr>\n",
       "    <tr>\n",
       "      <th>4</th>\n",
       "      <td>0</td>\n",
       "      <td>./who-is-she/training_set/rika\\004.png</td>\n",
       "    </tr>\n",
       "    <tr>\n",
       "      <th>5</th>\n",
       "      <td>0</td>\n",
       "      <td>./who-is-she/training_set/rika\\005.png</td>\n",
       "    </tr>\n",
       "    <tr>\n",
       "      <th>6</th>\n",
       "      <td>0</td>\n",
       "      <td>./who-is-she/training_set/rika\\006.png</td>\n",
       "    </tr>\n",
       "    <tr>\n",
       "      <th>7</th>\n",
       "      <td>0</td>\n",
       "      <td>./who-is-she/training_set/rika\\007.png</td>\n",
       "    </tr>\n",
       "    <tr>\n",
       "      <th>8</th>\n",
       "      <td>0</td>\n",
       "      <td>./who-is-she/training_set/rika\\008.png</td>\n",
       "    </tr>\n",
       "    <tr>\n",
       "      <th>9</th>\n",
       "      <td>0</td>\n",
       "      <td>./who-is-she/training_set/rika\\009.png</td>\n",
       "    </tr>\n",
       "    <tr>\n",
       "      <th>10</th>\n",
       "      <td>0</td>\n",
       "      <td>./who-is-she/training_set/rika\\010.png</td>\n",
       "    </tr>\n",
       "    <tr>\n",
       "      <th>11</th>\n",
       "      <td>0</td>\n",
       "      <td>./who-is-she/training_set/rika\\011.png</td>\n",
       "    </tr>\n",
       "    <tr>\n",
       "      <th>12</th>\n",
       "      <td>0</td>\n",
       "      <td>./who-is-she/training_set/rika\\012.png</td>\n",
       "    </tr>\n",
       "    <tr>\n",
       "      <th>13</th>\n",
       "      <td>0</td>\n",
       "      <td>./who-is-she/training_set/rika\\013.png</td>\n",
       "    </tr>\n",
       "    <tr>\n",
       "      <th>14</th>\n",
       "      <td>0</td>\n",
       "      <td>./who-is-she/training_set/rika\\014.png</td>\n",
       "    </tr>\n",
       "    <tr>\n",
       "      <th>15</th>\n",
       "      <td>0</td>\n",
       "      <td>./who-is-she/training_set/rika\\015.png</td>\n",
       "    </tr>\n",
       "    <tr>\n",
       "      <th>16</th>\n",
       "      <td>0</td>\n",
       "      <td>./who-is-she/training_set/rika\\016.png</td>\n",
       "    </tr>\n",
       "    <tr>\n",
       "      <th>17</th>\n",
       "      <td>0</td>\n",
       "      <td>./who-is-she/training_set/rika\\017.png</td>\n",
       "    </tr>\n",
       "    <tr>\n",
       "      <th>18</th>\n",
       "      <td>0</td>\n",
       "      <td>./who-is-she/training_set/rika\\018.png</td>\n",
       "    </tr>\n",
       "    <tr>\n",
       "      <th>19</th>\n",
       "      <td>0</td>\n",
       "      <td>./who-is-she/training_set/rika\\019.png</td>\n",
       "    </tr>\n",
       "  </tbody>\n",
       "</table>\n",
       "</div>"
      ],
      "text/plain": [
       "   class                                    path\n",
       "0      0  ./who-is-she/training_set/rika\\000.png\n",
       "1      0  ./who-is-she/training_set/rika\\001.png\n",
       "2      0  ./who-is-she/training_set/rika\\002.png\n",
       "3      0  ./who-is-she/training_set/rika\\003.png\n",
       "4      0  ./who-is-she/training_set/rika\\004.png\n",
       "5      0  ./who-is-she/training_set/rika\\005.png\n",
       "6      0  ./who-is-she/training_set/rika\\006.png\n",
       "7      0  ./who-is-she/training_set/rika\\007.png\n",
       "8      0  ./who-is-she/training_set/rika\\008.png\n",
       "9      0  ./who-is-she/training_set/rika\\009.png\n",
       "10     0  ./who-is-she/training_set/rika\\010.png\n",
       "11     0  ./who-is-she/training_set/rika\\011.png\n",
       "12     0  ./who-is-she/training_set/rika\\012.png\n",
       "13     0  ./who-is-she/training_set/rika\\013.png\n",
       "14     0  ./who-is-she/training_set/rika\\014.png\n",
       "15     0  ./who-is-she/training_set/rika\\015.png\n",
       "16     0  ./who-is-she/training_set/rika\\016.png\n",
       "17     0  ./who-is-she/training_set/rika\\017.png\n",
       "18     0  ./who-is-she/training_set/rika\\018.png\n",
       "19     0  ./who-is-she/training_set/rika\\019.png"
      ]
     },
     "execution_count": 4,
     "metadata": {},
     "output_type": "execute_result"
    }
   ],
   "source": [
    "data_list.head(20)"
   ]
  },
  {
   "cell_type": "markdown",
   "metadata": {},
   "source": [
    "## Make necessary datatype conversion ##\n",
    "## 把data_list轉np array ##"
   ]
  },
  {
   "cell_type": "code",
   "execution_count": null,
   "metadata": {},
   "outputs": [],
   "source": [
    "#把data_list轉np array\n",
    "data_list_np = data_list.values\n",
    "data_list_np.shape"
   ]
  },
  {
   "cell_type": "markdown",
   "metadata": {},
   "source": [
    "### Retrieve image data from data_list_np \n",
    "### Resize and convert grayscale to rgb \n",
    "### 把image資料從data_list_np抓出來 ###\n",
    "### 整理一下影像檔案 ###"
   ]
  },
  {
   "cell_type": "code",
   "execution_count": 5,
   "metadata": {},
   "outputs": [
    {
     "data": {
      "text/plain": [
       "(538, 224, 224, 3)"
      ]
     },
     "execution_count": 5,
     "metadata": {},
     "output_type": "execute_result"
    }
   ],
   "source": [
    "#把image資料從data_list_np抓出來\n",
    "image_data=[]\n",
    "for i in range(len(data_list_np)):\n",
    "    image_temp = cv2.imread(data_list_np[i][1])\n",
    "    image_temp = cv2.resize(image_temp, (224, 224## Make necessary datatype conversion ##\n",
    "## 把data_list轉np array ##))\n",
    "    image_temp = cv2.cvtColor(image_temp, cv2.COLOR_BGR2RGB)\n",
    "    image_data.append(image_temp)\n",
    "\n",
    "image_data_np = np.asarray(image_data)\n",
    "image_data_np.shape"
   ]
  },
  {
   "cell_type": "code",
   "execution_count": 6,
   "metadata": {},
   "outputs": [
    {
     "name": "stdout",
     "output_type": "stream",
     "text": [
      "<class 'numpy.ndarray'>\n"
     ]
    },
    {
     "data": {
      "text/plain": [
       "(538, 224, 224, 3)"
      ]
     },
     "execution_count": 6,
     "metadata": {},
     "output_type": "execute_result"
    }
   ],
   "source": [
    "#data_list.head()\n",
    "class_label = data_list[['class']].copy()\n",
    "\n",
    "class_label_np=class_label.values\n",
    "\n",
    "print(type(class_label_np))\n",
    "\n",
    "class_label_np = class_label_np.astype(int)\n",
    "\n",
    "image_data_np.shape"
   ]
  },
  {
   "cell_type": "code",
   "execution_count": 7,
   "metadata": {},
   "outputs": [],
   "source": [
    "class_label_lt=[]\n",
    "for i in range(len(class_label_np)):\n",
    "    class_label_lt.append(class_label_np[i][0])\n",
    "\n",
    "#one-hot-encode\n",
    "class_label_OneHot = np.eye(5)[class_label_lt]\n",
    "#class_label_OneHot[0:5]\n",
    "#class_label_OneHot.shape\n",
    "X_train, X_valid, y_train, y_valid = train_test_split(image_data_np, class_label_OneHot, test_size = 0.1, stratify = class_label)"
   ]
  },
  {
   "cell_type": "code",
   "execution_count": 8,
   "metadata": {},
   "outputs": [
    {
     "name": "stdout",
     "output_type": "stream",
     "text": [
      "size of training data: (484, 224, 224, 3) (484, 5)\n",
      "size of testing data: (54, 224, 224, 3) (54, 5)\n"
     ]
    }
   ],
   "source": [
    "print('size of training data:', X_train.shape, y_train.shape)\n",
    "print('size of testing data:', X_valid.shape, y_valid.shape)\n",
    "\n",
    "#Scaling the values\n",
    "X_train = X_train/255.0\n",
    "X_valid = X_valid/255.0"
   ]
  },
  {
   "cell_type": "markdown",
   "metadata": {},
   "source": [
    "### Import package and load DenseNet201 Model ###\n",
    "### 載入套件並使用DenseNet201 模型 ###"
   ]
  },
  {
   "cell_type": "code",
   "execution_count": 9,
   "metadata": {},
   "outputs": [],
   "source": [
    "num_classes=5\n",
    "import tensorflow.keras as keras\n",
    "from tensorflow.keras.preprocessing.image import ImageDataGenerator\n",
    "from tensorflow.keras.models import Sequential, load_model, Model\n",
    "from tensorflow.keras.layers import Dense, Dropout, Activation, Flatten\n",
    "from tensorflow.keras.layers import Conv2D, MaxPooling2D, BatchNormalization, GlobalAveragePooling2D\n",
    "from tensorflow.keras.callbacks import EarlyStopping, ModelCheckpoint\n",
    "from tensorflow.keras.applications.densenet import DenseNet201\n",
    "\n",
    "\n",
    "model_name = 'DenseNet201-Fine-Tune'\n",
    "\n",
    "img_rows, img_cols, img_channel = 224, 224, 3\n",
    "base_model = DenseNet201(weights='imagenet', include_top=False,\n",
    "                         input_shape=(img_rows, img_cols, img_channel))\n",
    "\n",
    "x = base_model.output\n",
    "x = GlobalAveragePooling2D(data_format='channels_last')(x)\n",
    "x = Dropout(1-0.5)(x)\n",
    "predictions = Dense(num_classes, activation='softmax')(x)\n",
    "\n",
    "model = Model(inputs=base_model.input, outputs=predictions)\n",
    "\n",
    "model.summary()"
   ]
  },
  {
   "cell_type": "markdown",
   "metadata": {},
   "source": [
    "### Train the model include ImageDataGenerator for Data augmentation ###\n",
    "### 訓練模型包含資料增量 ###"
   ]
  },
  {
   "cell_type": "code",
   "execution_count": 11,
   "metadata": {},
   "outputs": [
    {
     "name": "stdout",
     "output_type": "stream",
     "text": [
      "WARNING:tensorflow:From c:\\users\\user\\.conda\\envs\\tf_gpu\\lib\\site-packages\\tensorflow\\python\\ops\\math_ops.py:3066: to_int32 (from tensorflow.python.ops.math_ops) is deprecated and will be removed in a future version.\n",
      "Instructions for updating:\n",
      "Use tf.cast instead.\n",
      "Epoch 1/100\n",
      "54/54 [==============================] - 3s 56ms/sample - loss: 1.7872 - acc: 0.1667\n",
      "\n",
      "Epoch 00001: val_loss improved from inf to 1.76596, saving model to ./saved_models/DenseNet201-Fine-Tune.h5\n",
      "31/31 [==============================] - 227s 7s/step - loss: 1.9425 - acc: 0.1983 - val_loss: 1.7660 - val_acc: 0.1667\n",
      "Epoch 2/100\n",
      "54/54 [==============================] - 0s 5ms/sample - loss: 1.6651 - acc: 0.1852\n",
      "\n",
      "Epoch 00002: val_loss improved from 1.76596 to 1.65583, saving model to ./saved_models/DenseNet201-Fine-Tune.h5\n",
      "31/31 [==============================] - 8s 268ms/step - loss: 1.7213 - acc: 0.2831 - val_loss: 1.6558 - val_acc: 0.1852\n",
      "Epoch 3/100\n",
      "54/54 [==============================] - 0s 5ms/sample - loss: 1.5677 - acc: 0.2222\n",
      "\n",
      "Epoch 00003: val_loss improved from 1.65583 to 1.56372, saving model to ./saved_models/DenseNet201-Fine-Tune.h5\n",
      "31/31 [==============================] - 8s 271ms/step - loss: 1.5996 - acc: 0.3636 - val_loss: 1.5637 - val_acc: 0.2222\n",
      "Epoch 4/100\n",
      "54/54 [==============================] - 0s 5ms/sample - loss: 1.4778 - acc: 0.3148\n",
      "\n",
      "Epoch 00004: val_loss improved from 1.56372 to 1.47445, saving model to ./saved_models/DenseNet201-Fine-Tune.h5\n",
      "31/31 [==============================] - 8s 269ms/step - loss: 1.4586 - acc: 0.4194 - val_loss: 1.4745 - val_acc: 0.3148\n",
      "Epoch 5/100\n",
      "54/54 [==============================] - 0s 5ms/sample - loss: 1.3905 - acc: 0.3704\n",
      "\n",
      "Epoch 00005: val_loss improved from 1.47445 to 1.38871, saving model to ./saved_models/DenseNet201-Fine-Tune.h5\n",
      "31/31 [==============================] - 8s 269ms/step - loss: 1.3896 - acc: 0.4380 - val_loss: 1.3887 - val_acc: 0.3704\n",
      "Epoch 6/100\n",
      "54/54 [==============================] - 0s 5ms/sample - loss: 1.3226 - acc: 0.4444\n",
      "\n",
      "Epoch 00006: val_loss improved from 1.38871 to 1.31823, saving model to ./saved_models/DenseNet201-Fine-Tune.h5\n",
      "31/31 [==============================] - 8s 270ms/step - loss: 1.2782 - acc: 0.4711 - val_loss: 1.3182 - val_acc: 0.4444\n",
      "Epoch 7/100\n",
      "54/54 [==============================] - 0s 5ms/sample - loss: 1.2487 - acc: 0.5185\n",
      "\n",
      "Epoch 00007: val_loss improved from 1.31823 to 1.24777, saving model to ./saved_models/DenseNet201-Fine-Tune.h5\n",
      "31/31 [==============================] - 8s 270ms/step - loss: 1.2167 - acc: 0.5289 - val_loss: 1.2478 - val_acc: 0.5185\n",
      "Epoch 8/100\n",
      "54/54 [==============================] - 0s 5ms/sample - loss: 1.1796 - acc: 0.5741\n",
      "\n",
      "Epoch 00008: val_loss improved from 1.24777 to 1.17481, saving model to ./saved_models/DenseNet201-Fine-Tune.h5\n",
      "31/31 [==============================] - 8s 273ms/step - loss: 1.0546 - acc: 0.5826 - val_loss: 1.1748 - val_acc: 0.5741\n",
      "Epoch 9/100\n",
      "54/54 [==============================] - 0s 5ms/sample - loss: 1.1169 - acc: 0.5741\n",
      "\n",
      "Epoch 00009: val_loss improved from 1.17481 to 1.11249, saving model to ./saved_models/DenseNet201-Fine-Tune.h5\n",
      "31/31 [==============================] - 8s 269ms/step - loss: 0.9630 - acc: 0.6302 - val_loss: 1.1125 - val_acc: 0.5741\n",
      "Epoch 10/100\n",
      "54/54 [==============================] - 0s 5ms/sample - loss: 1.0637 - acc: 0.5741\n",
      "\n",
      "Epoch 00010: val_loss improved from 1.11249 to 1.06093, saving model to ./saved_models/DenseNet201-Fine-Tune.h5\n",
      "31/31 [==============================] - 8s 268ms/step - loss: 0.9152 - acc: 0.6942 - val_loss: 1.0609 - val_acc: 0.5741\n",
      "Epoch 11/100\n",
      "54/54 [==============================] - 0s 5ms/sample - loss: 1.0141 - acc: 0.5741\n",
      "\n",
      "Epoch 00011: val_loss improved from 1.06093 to 1.01210, saving model to ./saved_models/DenseNet201-Fine-Tune.h5\n",
      "31/31 [==============================] - 9s 279ms/step - loss: 0.8847 - acc: 0.6901 - val_loss: 1.0121 - val_acc: 0.5741\n",
      "Epoch 12/100\n",
      "54/54 [==============================] - 0s 5ms/sample - loss: 0.9732 - acc: 0.6111\n",
      "\n",
      "Epoch 00012: val_loss improved from 1.01210 to 0.97132, saving model to ./saved_models/DenseNet201-Fine-Tune.h5\n",
      "31/31 [==============================] - 8s 271ms/step - loss: 0.7863 - acc: 0.7252 - val_loss: 0.9713 - val_acc: 0.6111\n",
      "Epoch 13/100\n",
      "54/54 [==============================] - 1s 22ms/sample - loss: 0.9336 - acc: 0.6481\n",
      "\n",
      "Epoch 00013: val_loss improved from 0.97132 to 0.92984, saving model to ./saved_models/DenseNet201-Fine-Tune.h5\n",
      "31/31 [==============================] - 10s 314ms/step - loss: 0.7419 - acc: 0.7273 - val_loss: 0.9298 - val_acc: 0.6481\n",
      "Epoch 14/100\n",
      "54/54 [==============================] - 0s 5ms/sample - loss: 0.9054 - acc: 0.6852\n",
      "\n",
      "Epoch 00014: val_loss improved from 0.92984 to 0.90245, saving model to ./saved_models/DenseNet201-Fine-Tune.h5\n",
      "31/31 [==============================] - 8s 272ms/step - loss: 0.6633 - acc: 0.7748 - val_loss: 0.9025 - val_acc: 0.6852\n",
      "Epoch 15/100\n",
      "54/54 [==============================] - 0s 5ms/sample - loss: 0.8694 - acc: 0.7037\n",
      "\n",
      "Epoch 00015: val_loss improved from 0.90245 to 0.86580, saving model to ./saved_models/DenseNet201-Fine-Tune.h5\n",
      "31/31 [==============================] - 8s 267ms/step - loss: 0.6617 - acc: 0.7707 - val_loss: 0.8658 - val_acc: 0.7037\n",
      "Epoch 16/100\n",
      "54/54 [==============================] - 0s 5ms/sample - loss: 0.8245 - acc: 0.7222\n",
      "\n",
      "Epoch 00016: val_loss improved from 0.86580 to 0.81265, saving model to ./saved_models/DenseNet201-Fine-Tune.h5\n",
      "31/31 [==============================] - 8s 272ms/step - loss: 0.5964 - acc: 0.8058 - val_loss: 0.8126 - val_acc: 0.7222\n",
      "Epoch 17/100\n",
      "54/54 [==============================] - 0s 5ms/sample - loss: 0.7991 - acc: 0.7222\n",
      "\n",
      "Epoch 00017: val_loss improved from 0.81265 to 0.78586, saving model to ./saved_models/DenseNet201-Fine-Tune.h5\n",
      "31/31 [==============================] - 8s 269ms/step - loss: 0.5636 - acc: 0.8140 - val_loss: 0.7859 - val_acc: 0.7222\n",
      "Epoch 18/100\n",
      "54/54 [==============================] - 0s 5ms/sample - loss: 0.7665 - acc: 0.7222\n",
      "\n",
      "Epoch 00018: val_loss improved from 0.78586 to 0.75711, saving model to ./saved_models/DenseNet201-Fine-Tune.h5\n",
      "31/31 [==============================] - 8s 268ms/step - loss: 0.5119 - acc: 0.8554 - val_loss: 0.7571 - val_acc: 0.7222\n",
      "Epoch 19/100\n",
      "54/54 [==============================] - 0s 5ms/sample - loss: 0.7450 - acc: 0.7037\n",
      "\n",
      "Epoch 00019: val_loss improved from 0.75711 to 0.74018, saving model to ./saved_models/DenseNet201-Fine-Tune.h5\n",
      "31/31 [==============================] - 8s 268ms/step - loss: 0.4829 - acc: 0.8409 - val_loss: 0.7402 - val_acc: 0.7037\n",
      "Epoch 20/100\n",
      "54/54 [==============================] - 0s 5ms/sample - loss: 0.7317 - acc: 0.7037\n",
      "\n",
      "Epoch 00020: val_loss improved from 0.74018 to 0.73154, saving model to ./saved_models/DenseNet201-Fine-Tune.h5\n",
      "31/31 [==============================] - 8s 268ms/step - loss: 0.4531 - acc: 0.8616 - val_loss: 0.7315 - val_acc: 0.7037\n",
      "Epoch 21/100\n",
      "54/54 [==============================] - ETA: 0s - loss: 0.7188 - acc: 0.687 - 0s 5ms/sample - loss: 0.7218 - acc: 0.7037\n",
      "\n",
      "Epoch 00021: val_loss improved from 0.73154 to 0.72474, saving model to ./saved_models/DenseNet201-Fine-Tune.h5\n",
      "31/31 [==============================] - 8s 270ms/step - loss: 0.3869 - acc: 0.8967 - val_loss: 0.7247 - val_acc: 0.7037\n",
      "Epoch 22/100\n",
      "54/54 [==============================] - 0s 5ms/sample - loss: 0.7003 - acc: 0.7037\n",
      "\n",
      "Epoch 00022: val_loss improved from 0.72474 to 0.70590, saving model to ./saved_models/DenseNet201-Fine-Tune.h5\n",
      "31/31 [==============================] - 8s 274ms/step - loss: 0.3593 - acc: 0.9132 - val_loss: 0.7059 - val_acc: 0.7037\n",
      "Epoch 23/100\n",
      "54/54 [==============================] - 0s 5ms/sample - loss: 0.6901 - acc: 0.7222\n",
      "\n",
      "Epoch 00023: val_loss improved from 0.70590 to 0.69794, saving model to ./saved_models/DenseNet201-Fine-Tune.h5\n",
      "31/31 [==============================] - 9s 279ms/step - loss: 0.4032 - acc: 0.8926 - val_loss: 0.6979 - val_acc: 0.7222\n",
      "Epoch 24/100\n",
      "54/54 [==============================] - 0s 5ms/sample - loss: 0.6798 - acc: 0.7222\n",
      "\n",
      "Epoch 00024: val_loss improved from 0.69794 to 0.68964, saving model to ./saved_models/DenseNet201-Fine-Tune.h5\n",
      "31/31 [==============================] - 9s 275ms/step - loss: 0.3165 - acc: 0.9091 - val_loss: 0.6896 - val_acc: 0.7222\n"
     ]
    },
    {
     "name": "stdout",
     "output_type": "stream",
     "text": [
      "Epoch 25/100\n",
      "54/54 [==============================] - 0s 5ms/sample - loss: 0.6607 - acc: 0.7778\n",
      "\n",
      "Epoch 00025: val_loss improved from 0.68964 to 0.66527, saving model to ./saved_models/DenseNet201-Fine-Tune.h5\n",
      "31/31 [==============================] - 8s 271ms/step - loss: 0.2669 - acc: 0.9360 - val_loss: 0.6653 - val_acc: 0.7778\n",
      "Epoch 26/100\n",
      "54/54 [==============================] - 0s 5ms/sample - loss: 0.6550 - acc: 0.7778\n",
      "\n",
      "Epoch 00026: val_loss improved from 0.66527 to 0.65465, saving model to ./saved_models/DenseNet201-Fine-Tune.h5\n",
      "31/31 [==============================] - 8s 270ms/step - loss: 0.2959 - acc: 0.9174 - val_loss: 0.6547 - val_acc: 0.7778\n",
      "Epoch 27/100\n",
      "54/54 [==============================] - 0s 5ms/sample - loss: 0.6345 - acc: 0.7593\n",
      "\n",
      "Epoch 00027: val_loss improved from 0.65465 to 0.63401, saving model to ./saved_models/DenseNet201-Fine-Tune.h5\n",
      "31/31 [==============================] - 8s 273ms/step - loss: 0.2908 - acc: 0.9277 - val_loss: 0.6340 - val_acc: 0.7593\n",
      "Epoch 28/100\n",
      "54/54 [==============================] - 0s 5ms/sample - loss: 0.6243 - acc: 0.7407\n",
      "\n",
      "Epoch 00028: val_loss improved from 0.63401 to 0.62154, saving model to ./saved_models/DenseNet201-Fine-Tune.h5\n",
      "31/31 [==============================] - 9s 297ms/step - loss: 0.2639 - acc: 0.9298 - val_loss: 0.6215 - val_acc: 0.7407\n",
      "Epoch 29/100\n",
      "54/54 [==============================] - 0s 5ms/sample - loss: 0.6252 - acc: 0.7778\n",
      "\n",
      "Epoch 00029: val_loss improved from 0.62154 to 0.62149, saving model to ./saved_models/DenseNet201-Fine-Tune.h5\n",
      "31/31 [==============================] - 9s 290ms/step - loss: 0.2107 - acc: 0.9545 - val_loss: 0.6215 - val_acc: 0.7778\n",
      "Epoch 30/100\n",
      "54/54 [==============================] - 0s 5ms/sample - loss: 0.6312 - acc: 0.7593\n",
      "\n",
      "Epoch 00030: val_loss did not improve from 0.62149\n",
      "31/31 [==============================] - 7s 238ms/step - loss: 0.2419 - acc: 0.9360 - val_loss: 0.6352 - val_acc: 0.7593\n",
      "Epoch 31/100\n",
      "54/54 [==============================] - 0s 5ms/sample - loss: 0.6163 - acc: 0.7593\n",
      "\n",
      "Epoch 00031: val_loss improved from 0.62149 to 0.61816, saving model to ./saved_models/DenseNet201-Fine-Tune.h5\n",
      "31/31 [==============================] - 9s 280ms/step - loss: 0.1843 - acc: 0.9690 - val_loss: 0.6182 - val_acc: 0.7593\n",
      "Epoch 32/100\n",
      "54/54 [==============================] - 0s 5ms/sample - loss: 0.5941 - acc: 0.7778\n",
      "\n",
      "Epoch 00032: val_loss improved from 0.61816 to 0.58324, saving model to ./saved_models/DenseNet201-Fine-Tune.h5\n",
      "31/31 [==============================] - 9s 281ms/step - loss: 0.2053 - acc: 0.9298 - val_loss: 0.5832 - val_acc: 0.7778\n",
      "Epoch 33/100\n",
      "54/54 [==============================] - 0s 5ms/sample - loss: 0.5772 - acc: 0.8148\n",
      "\n",
      "Epoch 00033: val_loss improved from 0.58324 to 0.56787, saving model to ./saved_models/DenseNet201-Fine-Tune.h5\n",
      "31/31 [==============================] - 9s 290ms/step - loss: 0.2133 - acc: 0.9442 - val_loss: 0.5679 - val_acc: 0.8148\n",
      "Epoch 34/100\n",
      "54/54 [==============================] - 0s 6ms/sample - loss: 0.5769 - acc: 0.7963\n",
      "\n",
      "Epoch 00034: val_loss did not improve from 0.56787\n",
      "31/31 [==============================] - 7s 240ms/step - loss: 0.1710 - acc: 0.9587 - val_loss: 0.5727 - val_acc: 0.7963\n",
      "Epoch 35/100\n",
      "54/54 [==============================] - 0s 5ms/sample - loss: 0.5749 - acc: 0.7778\n",
      "\n",
      "Epoch 00035: val_loss did not improve from 0.56787\n",
      "31/31 [==============================] - 7s 242ms/step - loss: 0.1602 - acc: 0.9711 - val_loss: 0.5737 - val_acc: 0.7778\n",
      "Epoch 36/100\n",
      "54/54 [==============================] - 0s 5ms/sample - loss: 0.5579 - acc: 0.8333\n",
      "\n",
      "Epoch 00036: val_loss improved from 0.56787 to 0.55684, saving model to ./saved_models/DenseNet201-Fine-Tune.h5\n",
      "31/31 [==============================] - 9s 287ms/step - loss: 0.1528 - acc: 0.9690 - val_loss: 0.5568 - val_acc: 0.8333\n",
      "Epoch 37/100\n",
      "54/54 [==============================] - 0s 5ms/sample - loss: 0.5622 - acc: 0.8148\n",
      "\n",
      "Epoch 00037: val_loss did not improve from 0.55684\n",
      "31/31 [==============================] - 7s 233ms/step - loss: 0.1479 - acc: 0.9628 - val_loss: 0.5652 - val_acc: 0.8148\n",
      "Epoch 38/100\n",
      "54/54 [==============================] - 0s 5ms/sample - loss: 0.5814 - acc: 0.7963\n",
      "\n",
      "Epoch 00038: val_loss did not improve from 0.55684\n",
      "31/31 [==============================] - 7s 228ms/step - loss: 0.1367 - acc: 0.9814 - val_loss: 0.5835 - val_acc: 0.7963\n",
      "Epoch 39/100\n",
      "54/54 [==============================] - 0s 5ms/sample - loss: 0.5945 - acc: 0.7778\n",
      "\n",
      "Epoch 00039: val_loss did not improve from 0.55684\n",
      "31/31 [==============================] - 7s 225ms/step - loss: 0.0984 - acc: 0.9959 - val_loss: 0.5976 - val_acc: 0.7778\n",
      "Epoch 40/100\n",
      "54/54 [==============================] - 0s 5ms/sample - loss: 0.6039 - acc: 0.7778\n",
      "\n",
      "Epoch 00040: val_loss did not improve from 0.55684\n",
      "31/31 [==============================] - 7s 227ms/step - loss: 0.0991 - acc: 0.9855 - val_loss: 0.6109 - val_acc: 0.7778\n",
      "Epoch 41/100\n",
      "54/54 [==============================] - 0s 5ms/sample - loss: 0.5772 - acc: 0.7963\n",
      "\n",
      "Epoch 00041: val_loss did not improve from 0.55684\n",
      "31/31 [==============================] - 7s 225ms/step - loss: 0.0987 - acc: 0.9876 - val_loss: 0.5816 - val_acc: 0.7963\n",
      "Epoch 00041: early stopping\n"
     ]
    }
   ],
   "source": [
    "epochs = 100\n",
    "batch_size = 32\n",
    "datagen = ImageDataGenerator(\n",
    "    rotation_range=10,\n",
    "    width_shift_range=0.2,\n",
    "    height_shift_range=0.2,\n",
    "    shear_range=0.2,\n",
    "    zoom_range=0.2,\n",
    "    horizontal_flip=True,\n",
    "    fill_mode='nearest')\n",
    "\n",
    "optimizer = keras.optimizers.Adam(lr=10e-6)\n",
    "\n",
    "model_path = './saved_models/{}.h5'.format(model_name)\n",
    "\n",
    "checkpoint = ModelCheckpoint(model_path, monitor='val_loss', save_best_only=True, verbose=1)\n",
    "earlystop = EarlyStopping(monitor='val_loss', patience=5, verbose=1)\n",
    "\n",
    "model.compile(loss='categorical_crossentropy',\n",
    "              optimizer=optimizer, metrics=['accuracy'])\n",
    "\n",
    "batch_size = 16\n",
    "model_history = model.fit_generator(datagen.flow(X_train, y_train, batch_size = batch_size),\n",
    "                                    epochs = epochs,\n",
    "                                    validation_data = (X_valid, y_valid),\n",
    "                                    callbacks = [checkpoint, earlystop])"
   ]
  },
  {
   "cell_type": "markdown",
   "metadata": {},
   "source": [
    "### Draw the picture and check the learning curve. It's quite obvious that the learning curve showing that it appears to be overfitting, meaning that DenseNet201 might just be too big for this data. ###\n",
    "### 畫圖看看曲線，不難發現過了一定的epoch之後已經產生overfitting 的現象，代表DenseNet201 模型過於複雜 ###"
   ]
  },
  {
   "cell_type": "code",
   "execution_count": 12,
   "metadata": {},
   "outputs": [
    {
     "data": {
      "image/png": "[encoded data removed]",
      "text/plain": [
       "<Figure size 432x288 with 2 Axes>"
      ]
     },
     "metadata": {
      "needs_background": "light"
     },
     "output_type": "display_data"
    }
   ],
   "source": [
    "training_loss = model_history.history['loss']\n",
    "val_loss = model_history.history['val_loss']\n",
    "training_acc = model_history.history['acc']\n",
    "val_acc = model_history.history['val_acc']\n",
    "\n",
    "plt.subplot(2,1,1)\n",
    "plt.plot(training_loss, label=\"training_loss\")\n",
    "plt.plot(val_loss, label=\"validation_loss\")\n",
    "plt.xlabel(\"Epochs\")\n",
    "plt.ylabel(\"Loss\")\n",
    "plt.title(\"Learning Curve\")\n",
    "plt.legend(loc='best')\n",
    "\n",
    "plt.subplot(2,1,2)\n",
    "plt.plot(training_acc, label=\"training_acc\")\n",
    "plt.plot(val_acc, label=\"validation_acc\")\n",
    "plt.xlabel('Epochs')\n",
    "plt.ylabel(\"Accu\")\n",
    "plt.title('Learning Curve')\n",
    "\n",
    "plt.tight_layout()\n",
    "plt.show()"
   ]
  },
  {
   "cell_type": "code",
   "execution_count": 13,
   "metadata": {},
   "outputs": [
    {
     "name": "stdout",
     "output_type": "stream",
     "text": [
      "['006F8606F6.png']\n"
     ]
    }
   ],
   "source": [
    "from pathlib import Path,PurePosixPath\n",
    "# 指定存放 test 資料集的資料夾\n",
    "test_dir = ''.join((data_dir_path, 'testing_set/'))\n",
    "test_img_path_list = []\n",
    "for test_file_path in sorted(Path(test_dir).glob('*.png')):\n",
    "    test_img_path_list.append(test_file_path)\n",
    "\n",
    "#convert Posix obj to str\n",
    "test_img_path_str = []\n",
    "for i in range(len(test_img_path_list)):\n",
    "    test_img_path_str.append(test_img_path_list[i].as_posix())\n",
    "\n",
    "test_img_path_str[0]\n",
    "\n",
    "test_img_path_str_np = np.asarray(test_img_path_str)\n",
    "\n",
    "test_img_path_str_np.shape\n",
    "\n",
    "test_str=[]\n",
    "import re\n",
    "for i in range(len(test_img_path_str)):\n",
    "    test_str.append(re.findall(\"([A-Za-z0-9]+.png)\",test_img_path_str[i]))\n",
    "\n",
    "print(test_str[0])"
   ]
  },
  {
   "cell_type": "code",
   "execution_count": 14,
   "metadata": {},
   "outputs": [
    {
     "data": {
      "text/plain": [
       "\"']\""
      ]
     },
     "execution_count": 14,
     "metadata": {},
     "output_type": "execute_result"
    }
   ],
   "source": [
    "fullStr = ''.join([str(elem) for elem in test_str ])\n",
    "\n",
    "fullStr_step1=fullStr.replace('\\'][\\'','')\n",
    "\n",
    "fullStr_step2=fullStr_step1.replace('[\\'','')\n",
    "\n",
    "fullStr_step3=fullStr_step2.replace(']\\'','')\n",
    "\n",
    "test_path_id=''\n",
    "for element in fullStr_step3:\n",
    "    test_path_id+=element\n",
    "id_test_list=test_path_id.split('.png') #.png\n",
    "\n",
    "id_test_list.pop(438)"
   ]
  },
  {
   "cell_type": "code",
   "execution_count": 15,
   "metadata": {},
   "outputs": [],
   "source": [
    "final_id_list=pd.DataFrame(id_test_list)\n",
    "\n",
    "test_list = pd.DataFrame({'path': test_img_path_str_np})\n",
    "\n",
    "test_list_np = test_list.values\n",
    "test_list_np.shape\n",
    "\n",
    "test_data=[]\n",
    "for i in range(len(test_list_np)):\n",
    "    testlist_temp = cv2.imread(test_list_np[i][0])\n",
    "    testlist_temp = cv2.resize(testlist_temp, (224, 224))\n",
    "    testlist_temp = cv2.cvtColor(testlist_temp, cv2.COLOR_BGR2RGB)\n",
    "    test_data.append(testlist_temp)"
   ]
  },
  {
   "cell_type": "code",
   "execution_count": 16,
   "metadata": {},
   "outputs": [
    {
     "data": {
      "text/plain": [
       "''"
      ]
     },
     "execution_count": 16,
     "metadata": {},
     "output_type": "execute_result"
    }
   ],
   "source": [
    "test_data_np = np.asarray(test_data)\n",
    "test_data_np = test_data_np / 255.0\n",
    "test_data_np.astype('float32')\n",
    ";"
   ]
  },
  {
   "cell_type": "code",
   "execution_count": 17,
   "metadata": {},
   "outputs": [
    {
     "name": "stdout",
     "output_type": "stream",
     "text": [
      "./saved_models/DenseNet201-Fine-Tune.h5\n"
     ]
    }
   ],
   "source": [
    "print(model_path)"
   ]
  },
  {
   "cell_type": "code",
   "execution_count": 18,
   "metadata": {},
   "outputs": [
    {
     "name": "stdout",
     "output_type": "stream",
     "text": [
      "54/54 [==============================] - 5s 86ms/sample - loss: 0.5581 - acc: 0.8333\n",
      "Validation loss: 0.5580598734043263\n",
      "Validation accuracy: 0.8333333\n"
     ]
    }
   ],
   "source": [
    "model = load_model(model_path)\n",
    "scores = model.evaluate(X_valid, y_valid, verbose=1)\n",
    "print('Validation loss:', scores[0])\n",
    "print('Validation accuracy:', scores[1])"
   ]
  },
  {
   "cell_type": "code",
   "execution_count": 19,
   "metadata": {},
   "outputs": [],
   "source": [
    "#直接load model的時候才需要重新宣告model_name跟path\n",
    "#model_name = 'InceptionResNetV2'\n",
    "#model_path = './saved_models/{}.h5'.format(model_name)\n",
    "#model = load_model(model_path)\n",
    "test_pred = model.predict(test_data_np)\n",
    "\n",
    "y_test_pred = test_pred.argmax(axis=-1)\n",
    "y_test_pred_df = pd.DataFrame({'id': np.asarray(id_test_list), 'class':y_test_pred}).sort_values(by='id')\n",
    "\n",
    "y_test_pred_df.to_csv('{}.csv'.format(model_name), index=False)"
   ]
  },
  {
   "cell_type": "code",
   "execution_count": null,
   "metadata": {},
   "outputs": [],
   "source": []
  }
 ],
 "metadata": {
  "kernelspec": {
   "display_name": "Python 3",
   "language": "python",
   "name": "python3"
  },
  "language_info": {
   "codemirror_mode": {
    "name": "ipython",
    "version": 3
   },
   "file_extension": ".py",
   "mimetype": "text/x-python",
   "name": "python",
   "nbconvert_exporter": "python",
   "pygments_lexer": "ipython3",
   "version": "3.7.3"
  }
 },
 "nbformat": 4,
 "nbformat_minor": 2
}
